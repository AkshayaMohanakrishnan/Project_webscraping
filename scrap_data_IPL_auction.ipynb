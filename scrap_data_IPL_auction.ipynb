{
  "nbformat": 4,
  "nbformat_minor": 0,
  "metadata": {
    "colab": {
      "provenance": [],
      "authorship_tag": "ABX9TyPn98tEVxbx+Phb3KuPRDui",
      "include_colab_link": true
    },
    "kernelspec": {
      "name": "python3",
      "display_name": "Python 3"
    },
    "language_info": {
      "name": "python"
    }
  },
  "cells": [
    {
      "cell_type": "markdown",
      "metadata": {
        "id": "view-in-github",
        "colab_type": "text"
      },
      "source": [
        "<a href=\"https://colab.research.google.com/github/AkshayaMohanakrishnan/Project_webscraping/blob/main/scrap_data_IPL_auction.ipynb\" target=\"_parent\"><img src=\"https://colab.research.google.com/assets/colab-badge.svg\" alt=\"Open In Colab\"/></a>"
      ]
    },
    {
      "cell_type": "code",
      "execution_count": 1,
      "metadata": {
        "id": "ZiZv8pqHgaYX"
      },
      "outputs": [],
      "source": [
        "import requests\n",
        "import pandas as pd\n",
        "from bs4 import BeautifulSoup"
      ]
    },
    {
      "cell_type": "code",
      "source": [
        "url = \"https://www.iplt20.com/auction/2022\""
      ],
      "metadata": {
        "id": "kAC-_BKLhhHL"
      },
      "execution_count": 2,
      "outputs": []
    },
    {
      "cell_type": "code",
      "source": [
        "r=requests.get(url)"
      ],
      "metadata": {
        "id": "JsVOA79uhwjn"
      },
      "execution_count": 3,
      "outputs": []
    },
    {
      "cell_type": "code",
      "source": [
        "soup =BeautifulSoup(r.text,\"lxml\")"
      ],
      "metadata": {
        "id": "Ma42ew83h22f"
      },
      "execution_count": 4,
      "outputs": []
    },
    {
      "cell_type": "code",
      "source": [
        "table =soup.find(\"table\",class_ = \"ih-td-tab auction-tbl\")"
      ],
      "metadata": {
        "id": "wzhUZSXliDWn"
      },
      "execution_count": 5,
      "outputs": []
    },
    {
      "cell_type": "code",
      "source": [
        "#print(table)\n",
        "header=table.find_all(\"th\")\n",
        "#print(header)\n",
        "titles=[]\n",
        "for i in header:\n",
        "  title = i.text\n",
        "  titles.append(title)\n",
        "#print(titles)\n"
      ],
      "metadata": {
        "id": "W9xrfWsSilwn"
      },
      "execution_count": 11,
      "outputs": []
    },
    {
      "cell_type": "code",
      "source": [
        "df =pd.DataFrame(columns=titles)\n",
        "print(df)"
      ],
      "metadata": {
        "colab": {
          "base_uri": "https://localhost:8080/"
        },
        "id": "bqFKhGw6iojv",
        "outputId": "85d1ce05-ad6c-48f0-9146-60a2074c71cc"
      },
      "execution_count": 10,
      "outputs": [
        {
          "output_type": "stream",
          "name": "stdout",
          "text": [
            "Empty DataFrame\n",
            "Columns: [TEAM, FUNDS REMAINING, OVERSEAS PLAYERS , TOTAL PLAYERS]\n",
            "Index: []\n"
          ]
        }
      ]
    },
    {
      "cell_type": "code",
      "source": [
        "rows =table.find_all(\"tr\")\n",
        "#print(rows)\n",
        "for i in rows[1:]:\n",
        "  first_td=i.find_all(\"td\")[0].find(\"div\",class_=\"ih-pt-ic\").text.strip()\n",
        "  data = i.find_all(\"td\")[1:]\n",
        "  row =[tr.text for tr in data]\n",
        "  row.insert(0,first_td)\n",
        "  #print(row)\n",
        "  l =len(df)\n",
        "  df.loc[l]=row\n",
        "print(df)\n",
        "df.to_csv(\"IPL_auction.csv\")"
      ],
      "metadata": {
        "colab": {
          "base_uri": "https://localhost:8080/"
        },
        "id": "zkrOvgwxq_SR",
        "outputId": "2b6ca7ce-0cc2-42ad-e8de-2cf7600189b1"
      },
      "execution_count": 22,
      "outputs": [
        {
          "output_type": "stream",
          "name": "stdout",
          "text": [
            "                                         TEAM FUNDS REMAINING  \\\n",
            "0           \\n\\n\\n\\n\\nChennai Super Kings\\n\\n    ₹2,95,00,000   \n",
            "1                \\n\\n\\n\\n\\nDelhi Capitals\\n\\n      ₹10,00,000   \n",
            "2                \\n\\n\\n\\n\\nGujarat Titans\\n\\n      ₹15,00,000   \n",
            "3         \\n\\n\\n\\n\\nKolkata Knight Riders\\n\\n      ₹45,00,000   \n",
            "4          \\n\\n\\n\\n\\nLucknow Super Giants\\n\\n              ₹0   \n",
            "5                \\n\\n\\n\\n\\nMumbai Indians\\n\\n      ₹10,00,000   \n",
            "6                  \\n\\n\\n\\n\\nPunjab Kings\\n\\n    ₹3,45,00,000   \n",
            "7              \\n\\n\\n\\n\\nRajasthan Royals\\n\\n      ₹95,00,000   \n",
            "8   \\n\\n\\n\\n\\nRoyal Challengers Bangalore\\n\\n    ₹1,55,00,000   \n",
            "9           \\n\\n\\n\\n\\nSunrisers Hyderabad\\n\\n      ₹10,00,000   \n",
            "10          \\n\\n\\n\\n\\nChennai Super Kings\\n\\n    ₹2,95,00,000   \n",
            "11               \\n\\n\\n\\n\\nDelhi Capitals\\n\\n      ₹10,00,000   \n",
            "12               \\n\\n\\n\\n\\nGujarat Titans\\n\\n      ₹15,00,000   \n",
            "13        \\n\\n\\n\\n\\nKolkata Knight Riders\\n\\n      ₹45,00,000   \n",
            "14         \\n\\n\\n\\n\\nLucknow Super Giants\\n\\n              ₹0   \n",
            "15               \\n\\n\\n\\n\\nMumbai Indians\\n\\n      ₹10,00,000   \n",
            "16                 \\n\\n\\n\\n\\nPunjab Kings\\n\\n    ₹3,45,00,000   \n",
            "17             \\n\\n\\n\\n\\nRajasthan Royals\\n\\n      ₹95,00,000   \n",
            "18  \\n\\n\\n\\n\\nRoyal Challengers Bangalore\\n\\n    ₹1,55,00,000   \n",
            "19          \\n\\n\\n\\n\\nSunrisers Hyderabad\\n\\n      ₹10,00,000   \n",
            "20          \\n\\n\\n\\n\\nChennai Super Kings\\n\\n    ₹2,95,00,000   \n",
            "21               \\n\\n\\n\\n\\nDelhi Capitals\\n\\n      ₹10,00,000   \n",
            "22               \\n\\n\\n\\n\\nGujarat Titans\\n\\n      ₹15,00,000   \n",
            "23        \\n\\n\\n\\n\\nKolkata Knight Riders\\n\\n      ₹45,00,000   \n",
            "24         \\n\\n\\n\\n\\nLucknow Super Giants\\n\\n              ₹0   \n",
            "25               \\n\\n\\n\\n\\nMumbai Indians\\n\\n      ₹10,00,000   \n",
            "26                 \\n\\n\\n\\n\\nPunjab Kings\\n\\n    ₹3,45,00,000   \n",
            "27             \\n\\n\\n\\n\\nRajasthan Royals\\n\\n      ₹95,00,000   \n",
            "28  \\n\\n\\n\\n\\nRoyal Challengers Bangalore\\n\\n    ₹1,55,00,000   \n",
            "29          \\n\\n\\n\\n\\nSunrisers Hyderabad\\n\\n      ₹10,00,000   \n",
            "30                        Chennai Super Kings    ₹2,95,00,000   \n",
            "31                             Delhi Capitals      ₹10,00,000   \n",
            "32                             Gujarat Titans      ₹15,00,000   \n",
            "33                      Kolkata Knight Riders      ₹45,00,000   \n",
            "34                       Lucknow Super Giants              ₹0   \n",
            "35                             Mumbai Indians      ₹10,00,000   \n",
            "36                               Punjab Kings    ₹3,45,00,000   \n",
            "37                           Rajasthan Royals      ₹95,00,000   \n",
            "38                Royal Challengers Bangalore    ₹1,55,00,000   \n",
            "39                        Sunrisers Hyderabad      ₹10,00,000   \n",
            "40                        Chennai Super Kings    ₹2,95,00,000   \n",
            "41                             Delhi Capitals      ₹10,00,000   \n",
            "42                             Gujarat Titans      ₹15,00,000   \n",
            "43                      Kolkata Knight Riders      ₹45,00,000   \n",
            "44                       Lucknow Super Giants              ₹0   \n",
            "45                             Mumbai Indians      ₹10,00,000   \n",
            "46                               Punjab Kings    ₹3,45,00,000   \n",
            "47                           Rajasthan Royals      ₹95,00,000   \n",
            "48                Royal Challengers Bangalore    ₹1,55,00,000   \n",
            "49                        Sunrisers Hyderabad      ₹10,00,000   \n",
            "\n",
            "   OVERSEAS PLAYERS  TOTAL PLAYERS  \n",
            "0                  8            25  \n",
            "1                  7            24  \n",
            "2                  8            23  \n",
            "3                  8            25  \n",
            "4                  7            21  \n",
            "5                  8            25  \n",
            "6                  7            25  \n",
            "7                  8            24  \n",
            "8                  8            22  \n",
            "9                  8            23  \n",
            "10                 8            25  \n",
            "11                 7            24  \n",
            "12                 8            23  \n",
            "13                 8            25  \n",
            "14                 7            21  \n",
            "15                 8            25  \n",
            "16                 7            25  \n",
            "17                 8            24  \n",
            "18                 8            22  \n",
            "19                 8            23  \n",
            "20                 8            25  \n",
            "21                 7            24  \n",
            "22                 8            23  \n",
            "23                 8            25  \n",
            "24                 7            21  \n",
            "25                 8            25  \n",
            "26                 7            25  \n",
            "27                 8            24  \n",
            "28                 8            22  \n",
            "29                 8            23  \n",
            "30                 8            25  \n",
            "31                 7            24  \n",
            "32                 8            23  \n",
            "33                 8            25  \n",
            "34                 7            21  \n",
            "35                 8            25  \n",
            "36                 7            25  \n",
            "37                 8            24  \n",
            "38                 8            22  \n",
            "39                 8            23  \n",
            "40                 8            25  \n",
            "41                 7            24  \n",
            "42                 8            23  \n",
            "43                 8            25  \n",
            "44                 7            21  \n",
            "45                 8            25  \n",
            "46                 7            25  \n",
            "47                 8            24  \n",
            "48                 8            22  \n",
            "49                 8            23  \n"
          ]
        }
      ]
    },
    {
      "cell_type": "code",
      "source": [],
      "metadata": {
        "id": "_fARdSTwt_NC"
      },
      "execution_count": null,
      "outputs": []
    }
  ]
}